{
 "cells": [
  {
   "cell_type": "code",
   "execution_count": 1,
   "metadata": {},
   "outputs": [],
   "source": [
    "import numpy as np\n",
    "import pandas as pd\n",
    "from sklearn.preprocessing import StandardScaler\n",
    "from sklearn.neighbors import KNeighborsClassifier\n",
    "from sklearn.metrics import classification_report, confusion_matrix\n",
    "from sklearn.model_selection import train_test_split\n",
    "from sklearn import preprocessing"
   ]
  },
  {
   "cell_type": "code",
   "execution_count": 3,
   "metadata": {},
   "outputs": [
    {
     "data": {
      "text/html": [
       "<div>\n",
       "<style scoped>\n",
       "    .dataframe tbody tr th:only-of-type {\n",
       "        vertical-align: middle;\n",
       "    }\n",
       "\n",
       "    .dataframe tbody tr th {\n",
       "        vertical-align: top;\n",
       "    }\n",
       "\n",
       "    .dataframe thead th {\n",
       "        text-align: right;\n",
       "    }\n",
       "</style>\n",
       "<table border=\"1\" class=\"dataframe\">\n",
       "  <thead>\n",
       "    <tr style=\"text-align: right;\">\n",
       "      <th></th>\n",
       "      <th>Ht</th>\n",
       "      <th>Wt</th>\n",
       "      <th>40yd</th>\n",
       "      <th>Draft_Pick</th>\n",
       "    </tr>\n",
       "  </thead>\n",
       "  <tbody>\n",
       "    <tr>\n",
       "      <td>0</td>\n",
       "      <td>73.0</td>\n",
       "      <td>294.0</td>\n",
       "      <td>5.29</td>\n",
       "      <td>Not Drafted</td>\n",
       "    </tr>\n",
       "    <tr>\n",
       "      <td>1</td>\n",
       "      <td>77.0</td>\n",
       "      <td>321.0</td>\n",
       "      <td>5.28</td>\n",
       "      <td>Drafted</td>\n",
       "    </tr>\n",
       "    <tr>\n",
       "      <td>2</td>\n",
       "      <td>77.0</td>\n",
       "      <td>311.0</td>\n",
       "      <td>4.98</td>\n",
       "      <td>Drafted</td>\n",
       "    </tr>\n",
       "    <tr>\n",
       "      <td>3</td>\n",
       "      <td>74.0</td>\n",
       "      <td>298.0</td>\n",
       "      <td>5.36</td>\n",
       "      <td>Drafted</td>\n",
       "    </tr>\n",
       "    <tr>\n",
       "      <td>4</td>\n",
       "      <td>74.0</td>\n",
       "      <td>302.0</td>\n",
       "      <td>5.33</td>\n",
       "      <td>Drafted</td>\n",
       "    </tr>\n",
       "    <tr>\n",
       "      <td>...</td>\n",
       "      <td>...</td>\n",
       "      <td>...</td>\n",
       "      <td>...</td>\n",
       "      <td>...</td>\n",
       "    </tr>\n",
       "    <tr>\n",
       "      <td>322</td>\n",
       "      <td>77.0</td>\n",
       "      <td>311.0</td>\n",
       "      <td>5.21</td>\n",
       "      <td>Not Drafted</td>\n",
       "    </tr>\n",
       "    <tr>\n",
       "      <td>323</td>\n",
       "      <td>76.0</td>\n",
       "      <td>308.0</td>\n",
       "      <td>5.05</td>\n",
       "      <td>Drafted</td>\n",
       "    </tr>\n",
       "    <tr>\n",
       "      <td>324</td>\n",
       "      <td>78.0</td>\n",
       "      <td>306.0</td>\n",
       "      <td>5.47</td>\n",
       "      <td>Not Drafted</td>\n",
       "    </tr>\n",
       "    <tr>\n",
       "      <td>325</td>\n",
       "      <td>76.0</td>\n",
       "      <td>254.0</td>\n",
       "      <td>4.79</td>\n",
       "      <td>Not Drafted</td>\n",
       "    </tr>\n",
       "    <tr>\n",
       "      <td>326</td>\n",
       "      <td>78.0</td>\n",
       "      <td>310.0</td>\n",
       "      <td>5.00</td>\n",
       "      <td>Drafted</td>\n",
       "    </tr>\n",
       "  </tbody>\n",
       "</table>\n",
       "<p>266 rows × 4 columns</p>\n",
       "</div>"
      ],
      "text/plain": [
       "       Ht     Wt  40yd   Draft_Pick\n",
       "0    73.0  294.0  5.29  Not Drafted\n",
       "1    77.0  321.0  5.28      Drafted\n",
       "2    77.0  311.0  4.98      Drafted\n",
       "3    74.0  298.0  5.36      Drafted\n",
       "4    74.0  302.0  5.33      Drafted\n",
       "..    ...    ...   ...          ...\n",
       "322  77.0  311.0  5.21  Not Drafted\n",
       "323  76.0  308.0  5.05      Drafted\n",
       "324  78.0  306.0  5.47  Not Drafted\n",
       "325  76.0  254.0  4.79  Not Drafted\n",
       "326  78.0  310.0  5.00      Drafted\n",
       "\n",
       "[266 rows x 4 columns]"
      ]
     },
     "execution_count": 3,
     "metadata": {},
     "output_type": "execute_result"
    }
   ],
   "source": [
    "data = pd.read_csv('../Data/Players_5.csv')\n",
    "training_data = data.drop(['Player', 'School', 'Pos', 'Broad_Jump', \"Shuttle\", \"3Cone\", \"Bench\", \"Vertical\"], axis=1)\n",
    "\n",
    "training_data = training_data.dropna()\n",
    "cond = training_data['Draft_Pick'] == -1\n",
    "training_data.loc[cond,'Draft_Pick'] = 'Not Drafted'\n",
    "cond = training_data['Draft_Pick'] != 'Not Drafted'\n",
    "training_data.loc[cond,'Draft_Pick'] = 'Drafted'\n",
    "training_data\n"
   ]
  },
  {
   "cell_type": "code",
   "execution_count": 4,
   "metadata": {},
   "outputs": [],
   "source": [
    "training_features = training_data.drop(['Draft_Pick'], axis=1)\n",
    "training_target = training_data['Draft_Pick']"
   ]
  },
  {
   "cell_type": "code",
   "execution_count": 5,
   "metadata": {},
   "outputs": [],
   "source": [
    "x_train, x_test, y_train, y_test = train_test_split(training_features, training_target, test_size=0.1, random_state=101)"
   ]
  },
  {
   "cell_type": "code",
   "execution_count": 6,
   "metadata": {},
   "outputs": [
    {
     "name": "stdout",
     "output_type": "stream",
     "text": [
      "              precision    recall  f1-score   support\n",
      "\n",
      "     Drafted       0.79      0.83      0.81        18\n",
      " Not Drafted       0.62      0.56      0.59         9\n",
      "\n",
      "    accuracy                           0.74        27\n",
      "   macro avg       0.71      0.69      0.70        27\n",
      "weighted avg       0.73      0.74      0.74        27\n",
      "\n"
     ]
    }
   ],
   "source": [
    "scaler = StandardScaler()\n",
    "scaler.fit(x_train)\n",
    "\n",
    "x_train = scaler.transform(x_train)\n",
    "x_test = scaler.transform(x_test)\n",
    "\n",
    "classifier = KNeighborsClassifier(n_neighbors=7)\n",
    "classifier.fit(x_train, y_train)\n",
    "\n",
    "y_pred = classifier.predict(x_test)\n",
    "print(classification_report(y_test, y_pred))"
   ]
  }
 ],
 "metadata": {
  "kernelspec": {
   "display_name": "Python 3",
   "language": "python",
   "name": "python3"
  },
  "language_info": {
   "codemirror_mode": {
    "name": "ipython",
    "version": 3
   },
   "file_extension": ".py",
   "mimetype": "text/x-python",
   "name": "python",
   "nbconvert_exporter": "python",
   "pygments_lexer": "ipython3",
   "version": "3.7.4"
  }
 },
 "nbformat": 4,
 "nbformat_minor": 2
}
