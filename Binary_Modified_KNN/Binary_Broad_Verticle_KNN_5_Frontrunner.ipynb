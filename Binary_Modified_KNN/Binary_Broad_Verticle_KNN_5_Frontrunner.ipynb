{
 "cells": [
  {
   "cell_type": "code",
   "execution_count": 1,
   "metadata": {},
   "outputs": [],
   "source": [
    "import numpy as np\n",
    "import pandas as pd\n",
    "from sklearn.preprocessing import StandardScaler\n",
    "from sklearn.neighbors import KNeighborsClassifier\n",
    "from sklearn.metrics import classification_report, confusion_matrix\n",
    "from sklearn.model_selection import train_test_split\n",
    "from sklearn import preprocessing"
   ]
  },
  {
   "cell_type": "code",
   "execution_count": 2,
   "metadata": {},
   "outputs": [
    {
     "data": {
      "text/html": [
       "<div>\n",
       "<style scoped>\n",
       "    .dataframe tbody tr th:only-of-type {\n",
       "        vertical-align: middle;\n",
       "    }\n",
       "\n",
       "    .dataframe tbody tr th {\n",
       "        vertical-align: top;\n",
       "    }\n",
       "\n",
       "    .dataframe thead th {\n",
       "        text-align: right;\n",
       "    }\n",
       "</style>\n",
       "<table border=\"1\" class=\"dataframe\">\n",
       "  <thead>\n",
       "    <tr style=\"text-align: right;\">\n",
       "      <th></th>\n",
       "      <th>Wt</th>\n",
       "      <th>Vertical</th>\n",
       "      <th>Broad_Jump</th>\n",
       "      <th>Draft_Pick</th>\n",
       "    </tr>\n",
       "  </thead>\n",
       "  <tbody>\n",
       "    <tr>\n",
       "      <th>0</th>\n",
       "      <td>294.0</td>\n",
       "      <td>26.5</td>\n",
       "      <td>101.0</td>\n",
       "      <td>Not Drafted</td>\n",
       "    </tr>\n",
       "    <tr>\n",
       "      <th>1</th>\n",
       "      <td>321.0</td>\n",
       "      <td>25.5</td>\n",
       "      <td>103.0</td>\n",
       "      <td>Drafted</td>\n",
       "    </tr>\n",
       "    <tr>\n",
       "      <th>2</th>\n",
       "      <td>311.0</td>\n",
       "      <td>28.0</td>\n",
       "      <td>104.0</td>\n",
       "      <td>Drafted</td>\n",
       "    </tr>\n",
       "    <tr>\n",
       "      <th>3</th>\n",
       "      <td>298.0</td>\n",
       "      <td>27.5</td>\n",
       "      <td>99.0</td>\n",
       "      <td>Drafted</td>\n",
       "    </tr>\n",
       "    <tr>\n",
       "      <th>4</th>\n",
       "      <td>302.0</td>\n",
       "      <td>28.5</td>\n",
       "      <td>96.0</td>\n",
       "      <td>Drafted</td>\n",
       "    </tr>\n",
       "    <tr>\n",
       "      <th>...</th>\n",
       "      <td>...</td>\n",
       "      <td>...</td>\n",
       "      <td>...</td>\n",
       "      <td>...</td>\n",
       "    </tr>\n",
       "    <tr>\n",
       "      <th>325</th>\n",
       "      <td>254.0</td>\n",
       "      <td>38.0</td>\n",
       "      <td>115.0</td>\n",
       "      <td>Not Drafted</td>\n",
       "    </tr>\n",
       "    <tr>\n",
       "      <th>326</th>\n",
       "      <td>310.0</td>\n",
       "      <td>30.5</td>\n",
       "      <td>108.0</td>\n",
       "      <td>Drafted</td>\n",
       "    </tr>\n",
       "    <tr>\n",
       "      <th>327</th>\n",
       "      <td>306.0</td>\n",
       "      <td>31.0</td>\n",
       "      <td>105.0</td>\n",
       "      <td>Not Drafted</td>\n",
       "    </tr>\n",
       "    <tr>\n",
       "      <th>328</th>\n",
       "      <td>311.0</td>\n",
       "      <td>30.0</td>\n",
       "      <td>106.0</td>\n",
       "      <td>Drafted</td>\n",
       "    </tr>\n",
       "    <tr>\n",
       "      <th>329</th>\n",
       "      <td>326.0</td>\n",
       "      <td>24.0</td>\n",
       "      <td>95.0</td>\n",
       "      <td>Drafted</td>\n",
       "    </tr>\n",
       "  </tbody>\n",
       "</table>\n",
       "<p>255 rows × 4 columns</p>\n",
       "</div>"
      ],
      "text/plain": [
       "        Wt  Vertical  Broad_Jump   Draft_Pick\n",
       "0    294.0      26.5       101.0  Not Drafted\n",
       "1    321.0      25.5       103.0      Drafted\n",
       "2    311.0      28.0       104.0      Drafted\n",
       "3    298.0      27.5        99.0      Drafted\n",
       "4    302.0      28.5        96.0      Drafted\n",
       "..     ...       ...         ...          ...\n",
       "325  254.0      38.0       115.0  Not Drafted\n",
       "326  310.0      30.5       108.0      Drafted\n",
       "327  306.0      31.0       105.0  Not Drafted\n",
       "328  311.0      30.0       106.0      Drafted\n",
       "329  326.0      24.0        95.0      Drafted\n",
       "\n",
       "[255 rows x 4 columns]"
      ]
     },
     "execution_count": 2,
     "metadata": {},
     "output_type": "execute_result"
    }
   ],
   "source": [
    "data = pd.read_csv('../Data/Players_5.csv')\n",
    "training_data = data.drop(['Player', 'School', 'Pos', '40yd', \"Shuttle\", \"3Cone\", \"Bench\", \"Ht\"], axis=1)\n",
    "\n",
    "training_data = training_data.dropna()\n",
    "cond = training_data['Draft_Pick'] == -1\n",
    "training_data.loc[cond,'Draft_Pick'] = 'Not Drafted'\n",
    "cond = training_data['Draft_Pick'] != 'Not Drafted'\n",
    "training_data.loc[cond,'Draft_Pick'] = 'Drafted'\n",
    "training_data\n"
   ]
  },
  {
   "cell_type": "code",
   "execution_count": 3,
   "metadata": {},
   "outputs": [],
   "source": [
    "training_features = training_data.drop(['Draft_Pick'], axis=1)\n",
    "training_target = training_data['Draft_Pick']"
   ]
  },
  {
   "cell_type": "code",
   "execution_count": 4,
   "metadata": {},
   "outputs": [],
   "source": [
    "x_train, x_test, y_train, y_test = train_test_split(training_features, training_target, test_size=0.1, random_state=101)"
   ]
  },
  {
   "cell_type": "code",
   "execution_count": 5,
   "metadata": {},
   "outputs": [
    {
     "name": "stdout",
     "output_type": "stream",
     "text": [
      "              precision    recall  f1-score   support\n",
      "\n",
      "     Drafted       0.79      0.94      0.86        16\n",
      " Not Drafted       0.86      0.60      0.71        10\n",
      "\n",
      "    accuracy                           0.81        26\n",
      "   macro avg       0.82      0.77      0.78        26\n",
      "weighted avg       0.82      0.81      0.80        26\n",
      "\n"
     ]
    }
   ],
   "source": [
    "scaler = StandardScaler()\n",
    "scaler.fit(x_train)\n",
    "\n",
    "x_train = scaler.transform(x_train)\n",
    "x_test = scaler.transform(x_test)\n",
    "\n",
    "classifier = KNeighborsClassifier(n_neighbors=15, weights=\"distance\")\n",
    "classifier.fit(x_train, y_train)\n",
    "\n",
    "y_pred = classifier.predict(x_test)\n",
    "print(classification_report(y_test, y_pred))"
   ]
  }
 ],
 "metadata": {
  "kernelspec": {
   "display_name": "Python 3 (ipykernel)",
   "language": "python",
   "name": "python3"
  },
  "language_info": {
   "codemirror_mode": {
    "name": "ipython",
    "version": 3
   },
   "file_extension": ".py",
   "mimetype": "text/x-python",
   "name": "python",
   "nbconvert_exporter": "python",
   "pygments_lexer": "ipython3",
   "version": "3.9.7"
  }
 },
 "nbformat": 4,
 "nbformat_minor": 2
}
