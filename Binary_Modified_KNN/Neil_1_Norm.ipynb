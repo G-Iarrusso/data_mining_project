{
 "cells": [
  {
   "cell_type": "code",
   "execution_count": 1,
   "metadata": {},
   "outputs": [],
   "source": [
    "import numpy as np\n",
    "import pandas as pd\n",
    "from sklearn.preprocessing import StandardScaler\n",
    "from sklearn.neighbors import KNeighborsClassifier\n",
    "from sklearn.metrics import classification_report, confusion_matrix\n",
    "from sklearn.model_selection import train_test_split\n",
    "from sklearn import preprocessing"
   ]
  },
  {
   "cell_type": "code",
   "execution_count": 17,
   "metadata": {},
   "outputs": [
    {
     "data": {
      "text/html": [
       "<div>\n",
       "<style scoped>\n",
       "    .dataframe tbody tr th:only-of-type {\n",
       "        vertical-align: middle;\n",
       "    }\n",
       "\n",
       "    .dataframe tbody tr th {\n",
       "        vertical-align: top;\n",
       "    }\n",
       "\n",
       "    .dataframe thead th {\n",
       "        text-align: right;\n",
       "    }\n",
       "</style>\n",
       "<table border=\"1\" class=\"dataframe\">\n",
       "  <thead>\n",
       "    <tr style=\"text-align: right;\">\n",
       "      <th></th>\n",
       "      <th>Ht</th>\n",
       "      <th>Wt</th>\n",
       "      <th>40yd</th>\n",
       "      <th>Bench</th>\n",
       "      <th>3Cone</th>\n",
       "      <th>Draft_Pick</th>\n",
       "    </tr>\n",
       "  </thead>\n",
       "  <tbody>\n",
       "    <tr>\n",
       "      <td>0</td>\n",
       "      <td>73.0</td>\n",
       "      <td>294.0</td>\n",
       "      <td>5.29</td>\n",
       "      <td>23.0</td>\n",
       "      <td>7.90</td>\n",
       "      <td>Not Drafted</td>\n",
       "    </tr>\n",
       "    <tr>\n",
       "      <td>1</td>\n",
       "      <td>77.0</td>\n",
       "      <td>321.0</td>\n",
       "      <td>5.28</td>\n",
       "      <td>20.0</td>\n",
       "      <td>7.96</td>\n",
       "      <td>Drafted</td>\n",
       "    </tr>\n",
       "    <tr>\n",
       "      <td>3</td>\n",
       "      <td>74.0</td>\n",
       "      <td>298.0</td>\n",
       "      <td>5.36</td>\n",
       "      <td>29.0</td>\n",
       "      <td>7.52</td>\n",
       "      <td>Drafted</td>\n",
       "    </tr>\n",
       "    <tr>\n",
       "      <td>4</td>\n",
       "      <td>74.0</td>\n",
       "      <td>302.0</td>\n",
       "      <td>5.33</td>\n",
       "      <td>24.0</td>\n",
       "      <td>7.52</td>\n",
       "      <td>Drafted</td>\n",
       "    </tr>\n",
       "    <tr>\n",
       "      <td>5</td>\n",
       "      <td>75.0</td>\n",
       "      <td>303.0</td>\n",
       "      <td>5.01</td>\n",
       "      <td>25.0</td>\n",
       "      <td>7.31</td>\n",
       "      <td>Not Drafted</td>\n",
       "    </tr>\n",
       "    <tr>\n",
       "      <td>...</td>\n",
       "      <td>...</td>\n",
       "      <td>...</td>\n",
       "      <td>...</td>\n",
       "      <td>...</td>\n",
       "      <td>...</td>\n",
       "      <td>...</td>\n",
       "    </tr>\n",
       "    <tr>\n",
       "      <td>324</td>\n",
       "      <td>78.0</td>\n",
       "      <td>306.0</td>\n",
       "      <td>5.47</td>\n",
       "      <td>23.0</td>\n",
       "      <td>7.67</td>\n",
       "      <td>Not Drafted</td>\n",
       "    </tr>\n",
       "    <tr>\n",
       "      <td>326</td>\n",
       "      <td>78.0</td>\n",
       "      <td>310.0</td>\n",
       "      <td>5.00</td>\n",
       "      <td>34.0</td>\n",
       "      <td>7.70</td>\n",
       "      <td>Drafted</td>\n",
       "    </tr>\n",
       "    <tr>\n",
       "      <td>327</td>\n",
       "      <td>75.0</td>\n",
       "      <td>306.0</td>\n",
       "      <td>5.19</td>\n",
       "      <td>24.0</td>\n",
       "      <td>7.75</td>\n",
       "      <td>Not Drafted</td>\n",
       "    </tr>\n",
       "    <tr>\n",
       "      <td>328</td>\n",
       "      <td>76.0</td>\n",
       "      <td>311.0</td>\n",
       "      <td>5.25</td>\n",
       "      <td>27.0</td>\n",
       "      <td>7.77</td>\n",
       "      <td>Drafted</td>\n",
       "    </tr>\n",
       "    <tr>\n",
       "      <td>329</td>\n",
       "      <td>77.0</td>\n",
       "      <td>326.0</td>\n",
       "      <td>5.57</td>\n",
       "      <td>25.0</td>\n",
       "      <td>8.04</td>\n",
       "      <td>Drafted</td>\n",
       "    </tr>\n",
       "  </tbody>\n",
       "</table>\n",
       "<p>193 rows × 6 columns</p>\n",
       "</div>"
      ],
      "text/plain": [
       "       Ht     Wt  40yd  Bench  3Cone   Draft_Pick\n",
       "0    73.0  294.0  5.29   23.0   7.90  Not Drafted\n",
       "1    77.0  321.0  5.28   20.0   7.96      Drafted\n",
       "3    74.0  298.0  5.36   29.0   7.52      Drafted\n",
       "4    74.0  302.0  5.33   24.0   7.52      Drafted\n",
       "5    75.0  303.0  5.01   25.0   7.31  Not Drafted\n",
       "..    ...    ...   ...    ...    ...          ...\n",
       "324  78.0  306.0  5.47   23.0   7.67  Not Drafted\n",
       "326  78.0  310.0  5.00   34.0   7.70      Drafted\n",
       "327  75.0  306.0  5.19   24.0   7.75  Not Drafted\n",
       "328  76.0  311.0  5.25   27.0   7.77      Drafted\n",
       "329  77.0  326.0  5.57   25.0   8.04      Drafted\n",
       "\n",
       "[193 rows x 6 columns]"
      ]
     },
     "execution_count": 17,
     "metadata": {},
     "output_type": "execute_result"
    }
   ],
   "source": [
    "data = pd.read_csv('../Data/Players_5.csv')\n",
    "training_data = data.drop(['Player', 'School', 'Pos', \"Shuttle\", \"Broad_Jump\", \"Vertical\"], axis=1)\n",
    "training_data = training_data.dropna()\n",
    "cond = training_data['Draft_Pick'] == -1\n",
    "training_data.loc[cond,'Draft_Pick'] = 'Not Drafted'\n",
    "cond = training_data['Draft_Pick'] != 'Not Drafted'\n",
    "training_data.loc[cond,'Draft_Pick'] = 'Drafted'\n",
    "training_data\n"
   ]
  },
  {
   "cell_type": "code",
   "execution_count": 18,
   "metadata": {},
   "outputs": [],
   "source": [
    "training_features = training_data.drop(['Draft_Pick'], axis=1)\n",
    "training_target = training_data['Draft_Pick']"
   ]
  },
  {
   "cell_type": "code",
   "execution_count": 19,
   "metadata": {},
   "outputs": [],
   "source": [
    "x_train, x_test, y_train, y_test = train_test_split(training_features, training_target, test_size=0.1, random_state=101)"
   ]
  },
  {
   "cell_type": "code",
   "execution_count": 20,
   "metadata": {},
   "outputs": [],
   "source": [
    "x_train = preprocessing.normalize(x_train)\n",
    "x_test = preprocessing.normalize(x_test)"
   ]
  },
  {
   "cell_type": "code",
   "execution_count": 21,
   "metadata": {},
   "outputs": [
    {
     "name": "stdout",
     "output_type": "stream",
     "text": [
      "              precision    recall  f1-score   support\n",
      "\n",
      "     Drafted       0.75      1.00      0.86        15\n",
      " Not Drafted       0.00      0.00      0.00         5\n",
      "\n",
      "    accuracy                           0.75        20\n",
      "   macro avg       0.38      0.50      0.43        20\n",
      "weighted avg       0.56      0.75      0.64        20\n",
      "\n"
     ]
    },
    {
     "name": "stderr",
     "output_type": "stream",
     "text": [
      "C:\\Users\\Gianluca\\Anaconda3\\lib\\site-packages\\sklearn\\metrics\\classification.py:1437: UndefinedMetricWarning: Precision and F-score are ill-defined and being set to 0.0 in labels with no predicted samples.\n",
      "  'precision', 'predicted', average, warn_for)\n"
     ]
    }
   ],
   "source": [
    "scaler = StandardScaler()\n",
    "scaler.fit(x_train)\n",
    "\n",
    "x_train = scaler.transform(x_train)\n",
    "x_test = scaler.transform(x_test)\n",
    "\n",
    "classifier = KNeighborsClassifier(n_neighbors=13)\n",
    "classifier.fit(x_train, y_train)\n",
    "\n",
    "y_pred = classifier.predict(x_test)\n",
    "print(classification_report(y_test, y_pred))"
   ]
  }
 ],
 "metadata": {
  "kernelspec": {
   "display_name": "Python 3",
   "language": "python",
   "name": "python3"
  },
  "language_info": {
   "codemirror_mode": {
    "name": "ipython",
    "version": 3
   },
   "file_extension": ".py",
   "mimetype": "text/x-python",
   "name": "python",
   "nbconvert_exporter": "python",
   "pygments_lexer": "ipython3",
   "version": "3.7.4"
  }
 },
 "nbformat": 4,
 "nbformat_minor": 2
}
