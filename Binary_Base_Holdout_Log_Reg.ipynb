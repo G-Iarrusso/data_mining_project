{
 "cells": [
  {
   "cell_type": "code",
   "execution_count": 1,
   "id": "d74e41bc",
   "metadata": {},
   "outputs": [],
   "source": [
    "import pandas as pd\n",
    "data = pd.read_csv('Training(2000-2017).csv')"
   ]
  },
  {
   "cell_type": "code",
   "execution_count": 2,
   "id": "911b22f6",
   "metadata": {},
   "outputs": [
    {
     "data": {
      "text/html": [
       "<div>\n",
       "<style scoped>\n",
       "    .dataframe tbody tr th:only-of-type {\n",
       "        vertical-align: middle;\n",
       "    }\n",
       "\n",
       "    .dataframe tbody tr th {\n",
       "        vertical-align: top;\n",
       "    }\n",
       "\n",
       "    .dataframe thead th {\n",
       "        text-align: right;\n",
       "    }\n",
       "</style>\n",
       "<table border=\"1\" class=\"dataframe\">\n",
       "  <thead>\n",
       "    <tr style=\"text-align: right;\">\n",
       "      <th></th>\n",
       "      <th>Ht</th>\n",
       "      <th>Wt</th>\n",
       "      <th>40yd</th>\n",
       "      <th>Vertical</th>\n",
       "      <th>Bench</th>\n",
       "      <th>Broad_Jump</th>\n",
       "      <th>3Cone</th>\n",
       "      <th>Shuttle</th>\n",
       "      <th>Draft_Pick</th>\n",
       "    </tr>\n",
       "  </thead>\n",
       "  <tbody>\n",
       "    <tr>\n",
       "      <th>0</th>\n",
       "      <td>76</td>\n",
       "      <td>334</td>\n",
       "      <td>5.56</td>\n",
       "      <td>25.0</td>\n",
       "      <td>23.0</td>\n",
       "      <td>94.0</td>\n",
       "      <td>8.48</td>\n",
       "      <td>4.98</td>\n",
       "      <td>188</td>\n",
       "    </tr>\n",
       "    <tr>\n",
       "      <th>1</th>\n",
       "      <td>78</td>\n",
       "      <td>312</td>\n",
       "      <td>5.34</td>\n",
       "      <td>28.0</td>\n",
       "      <td>20.0</td>\n",
       "      <td>96.0</td>\n",
       "      <td>7.72</td>\n",
       "      <td>4.73</td>\n",
       "      <td>247</td>\n",
       "    </tr>\n",
       "    <tr>\n",
       "      <th>3</th>\n",
       "      <td>76</td>\n",
       "      <td>302</td>\n",
       "      <td>5.07</td>\n",
       "      <td>31.5</td>\n",
       "      <td>17.0</td>\n",
       "      <td>103.0</td>\n",
       "      <td>7.76</td>\n",
       "      <td>4.58</td>\n",
       "      <td>206</td>\n",
       "    </tr>\n",
       "    <tr>\n",
       "      <th>4</th>\n",
       "      <td>77</td>\n",
       "      <td>297</td>\n",
       "      <td>5.16</td>\n",
       "      <td>31.0</td>\n",
       "      <td>28.0</td>\n",
       "      <td>100.0</td>\n",
       "      <td>7.82</td>\n",
       "      <td>4.48</td>\n",
       "      <td>112</td>\n",
       "    </tr>\n",
       "    <tr>\n",
       "      <th>5</th>\n",
       "      <td>79</td>\n",
       "      <td>304</td>\n",
       "      <td>5.08</td>\n",
       "      <td>31.0</td>\n",
       "      <td>28.0</td>\n",
       "      <td>103.0</td>\n",
       "      <td>7.65</td>\n",
       "      <td>4.65</td>\n",
       "      <td>123</td>\n",
       "    </tr>\n",
       "  </tbody>\n",
       "</table>\n",
       "</div>"
      ],
      "text/plain": [
       "   Ht   Wt  40yd  Vertical  Bench  Broad_Jump  3Cone  Shuttle  Draft_Pick\n",
       "0  76  334  5.56      25.0   23.0        94.0   8.48     4.98         188\n",
       "1  78  312  5.34      28.0   20.0        96.0   7.72     4.73         247\n",
       "3  76  302  5.07      31.5   17.0       103.0   7.76     4.58         206\n",
       "4  77  297  5.16      31.0   28.0       100.0   7.82     4.48         112\n",
       "5  79  304  5.08      31.0   28.0       103.0   7.65     4.65         123"
      ]
     },
     "execution_count": 2,
     "metadata": {},
     "output_type": "execute_result"
    }
   ],
   "source": [
    "training_data = data.drop(['Player', 'School', 'Pos'], axis=1)\n",
    "training_data = training_data.dropna()\n",
    "training_data.head()"
   ]
  },
  {
   "cell_type": "code",
   "execution_count": 3,
   "id": "1dfbaef6",
   "metadata": {},
   "outputs": [
    {
     "data": {
      "text/html": [
       "<div>\n",
       "<style scoped>\n",
       "    .dataframe tbody tr th:only-of-type {\n",
       "        vertical-align: middle;\n",
       "    }\n",
       "\n",
       "    .dataframe tbody tr th {\n",
       "        vertical-align: top;\n",
       "    }\n",
       "\n",
       "    .dataframe thead th {\n",
       "        text-align: right;\n",
       "    }\n",
       "</style>\n",
       "<table border=\"1\" class=\"dataframe\">\n",
       "  <thead>\n",
       "    <tr style=\"text-align: right;\">\n",
       "      <th></th>\n",
       "      <th>Ht</th>\n",
       "      <th>Wt</th>\n",
       "      <th>40yd</th>\n",
       "      <th>Vertical</th>\n",
       "      <th>Bench</th>\n",
       "      <th>Broad_Jump</th>\n",
       "      <th>3Cone</th>\n",
       "      <th>Shuttle</th>\n",
       "      <th>Draft_Pick</th>\n",
       "    </tr>\n",
       "  </thead>\n",
       "  <tbody>\n",
       "    <tr>\n",
       "      <th>0</th>\n",
       "      <td>76</td>\n",
       "      <td>334</td>\n",
       "      <td>5.56</td>\n",
       "      <td>25.0</td>\n",
       "      <td>23.0</td>\n",
       "      <td>94.0</td>\n",
       "      <td>8.48</td>\n",
       "      <td>4.98</td>\n",
       "      <td>Drafted</td>\n",
       "    </tr>\n",
       "    <tr>\n",
       "      <th>1</th>\n",
       "      <td>78</td>\n",
       "      <td>312</td>\n",
       "      <td>5.34</td>\n",
       "      <td>28.0</td>\n",
       "      <td>20.0</td>\n",
       "      <td>96.0</td>\n",
       "      <td>7.72</td>\n",
       "      <td>4.73</td>\n",
       "      <td>Drafted</td>\n",
       "    </tr>\n",
       "    <tr>\n",
       "      <th>3</th>\n",
       "      <td>76</td>\n",
       "      <td>302</td>\n",
       "      <td>5.07</td>\n",
       "      <td>31.5</td>\n",
       "      <td>17.0</td>\n",
       "      <td>103.0</td>\n",
       "      <td>7.76</td>\n",
       "      <td>4.58</td>\n",
       "      <td>Drafted</td>\n",
       "    </tr>\n",
       "    <tr>\n",
       "      <th>4</th>\n",
       "      <td>77</td>\n",
       "      <td>297</td>\n",
       "      <td>5.16</td>\n",
       "      <td>31.0</td>\n",
       "      <td>28.0</td>\n",
       "      <td>100.0</td>\n",
       "      <td>7.82</td>\n",
       "      <td>4.48</td>\n",
       "      <td>Drafted</td>\n",
       "    </tr>\n",
       "    <tr>\n",
       "      <th>5</th>\n",
       "      <td>79</td>\n",
       "      <td>304</td>\n",
       "      <td>5.08</td>\n",
       "      <td>31.0</td>\n",
       "      <td>28.0</td>\n",
       "      <td>103.0</td>\n",
       "      <td>7.65</td>\n",
       "      <td>4.65</td>\n",
       "      <td>Drafted</td>\n",
       "    </tr>\n",
       "  </tbody>\n",
       "</table>\n",
       "</div>"
      ],
      "text/plain": [
       "   Ht   Wt  40yd  Vertical  Bench  Broad_Jump  3Cone  Shuttle Draft_Pick\n",
       "0  76  334  5.56      25.0   23.0        94.0   8.48     4.98    Drafted\n",
       "1  78  312  5.34      28.0   20.0        96.0   7.72     4.73    Drafted\n",
       "3  76  302  5.07      31.5   17.0       103.0   7.76     4.58    Drafted\n",
       "4  77  297  5.16      31.0   28.0       100.0   7.82     4.48    Drafted\n",
       "5  79  304  5.08      31.0   28.0       103.0   7.65     4.65    Drafted"
      ]
     },
     "execution_count": 3,
     "metadata": {},
     "output_type": "execute_result"
    }
   ],
   "source": [
    "cond = training_data['Draft_Pick'] == -1\n",
    "training_data.loc[cond,'Draft_Pick'] = 'Not Drafted'\n",
    "cond = training_data['Draft_Pick'] != 'Not Drafted'\n",
    "training_data.loc[cond,'Draft_Pick'] = 'Drafted'\n",
    "training_data.head()"
   ]
  },
  {
   "cell_type": "code",
   "execution_count": 4,
   "id": "75932f8d",
   "metadata": {},
   "outputs": [
    {
     "name": "stdout",
     "output_type": "stream",
     "text": [
      ">0.0000 0.790 (0.000)\n",
      ">0.0001 0.714 (0.000)\n",
      ">0.0010 0.647 (0.000)\n",
      ">0.0100 0.681 (0.000)\n",
      ">0.1000 0.748 (0.000)\n",
      ">1.0000 0.723 (0.000)\n"
     ]
    }
   ],
   "source": [
    "from numpy import mean\n",
    "from numpy import std\n",
    "from sklearn.datasets import make_classification\n",
    "from sklearn.model_selection import train_test_split\n",
    "from sklearn.linear_model import LogisticRegression\n",
    "from matplotlib import pyplot\n",
    "\n",
    "training_features = training_data.drop(['Draft_Pick'], axis=1)\n",
    "training_target = training_data['Draft_Pick']\n",
    "\n",
    "def evaluate_model(model, X, y):\n",
    "    x_train, x_test,y_train,y_test = train_test_split(X,y,test_size = 0.2)\n",
    "    model.fit(x_train,y_train)\n",
    "    scores = model.score(x_test,y_test)\n",
    "    return scores\n",
    "\n",
    "models = dict()\n",
    "for p in [0.0, 0.0001, 0.001, 0.01, 0.1, 1.0]:\n",
    "    key = '%.4f' % p\n",
    "    if p == 0.0:\n",
    "        models[key] = LogisticRegression(solver='lbfgs', penalty='none', class_weight = { '0:0.33', '1:0.67'}, max_iter = 400)\n",
    "    else:\n",
    "        models[key] = LogisticRegression(solver='lbfgs', penalty='l2', C=p, class_weight = { '0:0.33', '1:0.67' }, max_iter = 400)\n",
    "results, names = list(), list()\n",
    "for name, model in models.items():\n",
    "    scores = evaluate_model(model, training_features, training_target)\n",
    "    results.append(scores)\n",
    "    names.append(name)\n",
    "    print('>%s %.3f (%.3f)' % (name, mean(scores), std(scores)))"
   ]
  },
  {
   "cell_type": "code",
   "execution_count": 5,
   "id": "b300544a",
   "metadata": {},
   "outputs": [],
   "source": [
    "import pandas as pd\n",
    "from numpy import mean\n",
    "from numpy import std\n",
    "from sklearn.datasets import make_classification\n",
    "from sklearn.model_selection import train_test_split\n",
    "from sklearn.linear_model import LogisticRegression\n",
    "from matplotlib import pyplot\n",
    "data = pd.read_csv('Testing(2018-2021).csv')\n",
    "data2 = pd.read_csv('Training(2000-2017).csv')"
   ]
  },
  {
   "cell_type": "code",
   "execution_count": 6,
   "id": "18d76354",
   "metadata": {},
   "outputs": [],
   "source": [
    "testing_data = data.drop(['Player', 'School', 'Pos'], axis=1)\n",
    "testing_data = testing_data.dropna()\n",
    "\n",
    "training_data = data2.drop(['Player', 'School', 'Pos'], axis=1)\n",
    "training_data = testing_data.dropna()"
   ]
  },
  {
   "cell_type": "code",
   "execution_count": 7,
   "id": "066987e2",
   "metadata": {},
   "outputs": [
    {
     "data": {
      "text/plain": [
       "count    124.000000\n",
       "mean       0.225806\n",
       "std        0.978124\n",
       "min       -1.000000\n",
       "25%       -1.000000\n",
       "50%        1.000000\n",
       "75%        1.000000\n",
       "max        1.000000\n",
       "Name: Draft_Pick, dtype: float64"
      ]
     },
     "execution_count": 7,
     "metadata": {},
     "output_type": "execute_result"
    }
   ],
   "source": [
    "cond = testing_data['Draft_Pick'] != -1\n",
    "testing_data.loc[cond,'Draft_Pick'] = 1\n",
    "\n",
    "cond = training_data['Draft_Pick'] != -1\n",
    "training_data.loc[cond,'Draft_Pick'] = 1\n",
    "\n",
    "actuals = testing_data['Draft_Pick']\n",
    "predict = testing_data.drop(['Draft_Pick'],axis=1)\n",
    "\n",
    "training_features = training_data.drop(['Draft_Pick'], axis=1)\n",
    "training_target = training_data['Draft_Pick']\n",
    "training_target = training_target.astype('int')\n",
    "\n",
    "training_data['Draft_Pick'].describe()"
   ]
  },
  {
   "cell_type": "code",
   "execution_count": 16,
   "id": "6e7fdef3",
   "metadata": {},
   "outputs": [],
   "source": [
    "lrh = LogisticRegression(solver='lbfgs', penalty='none', class_weight = { '0:0.33', '1:0.67' }, max_iter = 375)"
   ]
  },
  {
   "cell_type": "code",
   "execution_count": 17,
   "id": "6c523488",
   "metadata": {},
   "outputs": [
    {
     "data": {
      "text/plain": [
       "LogisticRegression(class_weight={'1:0.67', '0:0.33'}, max_iter=375,\n",
       "                   penalty='none')"
      ]
     },
     "execution_count": 17,
     "metadata": {},
     "output_type": "execute_result"
    }
   ],
   "source": [
    "lrh.fit(training_features,training_target)"
   ]
  },
  {
   "cell_type": "code",
   "execution_count": 18,
   "id": "be46e821",
   "metadata": {},
   "outputs": [],
   "source": [
    "predictions = lrh.predict(predict)\n",
    "originals = actuals.to_numpy()"
   ]
  },
  {
   "cell_type": "code",
   "execution_count": 19,
   "id": "ee2c38fb",
   "metadata": {},
   "outputs": [
    {
     "name": "stdout",
     "output_type": "stream",
     "text": [
      "0.7016129032258065\n"
     ]
    }
   ],
   "source": [
    "cnt = 0\n",
    "right = 0\n",
    "while cnt<predictions.size:\n",
    "    if predictions[cnt] == originals[cnt]:\n",
    "        right = right + 1\n",
    "    cnt = cnt + 1\n",
    "print(right/cnt)"
   ]
  },
  {
   "cell_type": "code",
   "execution_count": null,
   "id": "ff5435c2",
   "metadata": {},
   "outputs": [],
   "source": []
  }
 ],
 "metadata": {
  "kernelspec": {
   "display_name": "Python 3 (ipykernel)",
   "language": "python",
   "name": "python3"
  },
  "language_info": {
   "codemirror_mode": {
    "name": "ipython",
    "version": 3
   },
   "file_extension": ".py",
   "mimetype": "text/x-python",
   "name": "python",
   "nbconvert_exporter": "python",
   "pygments_lexer": "ipython3",
   "version": "3.10.1"
  }
 },
 "nbformat": 4,
 "nbformat_minor": 5
}
